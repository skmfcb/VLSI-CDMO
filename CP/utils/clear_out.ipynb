{
  "nbformat": 4,
  "nbformat_minor": 0,
  "metadata": {
    "colab": {
      "provenance": []
    },
    "kernelspec": {
      "name": "python3",
      "display_name": "Python 3"
    },
    "language_info": {
      "name": "python"
    }
  },
  "cells": [
    {
      "cell_type": "code",
      "source": [
        "import os\n",
        "\n",
        "folder_path = \"/content/out\"  # Replace with the actual path to your folder\n",
        "\n",
        "# Iterate over the files in the folder\n",
        "for filename in os.listdir(folder_path):\n",
        "    if filename.endswith(\".txt\"):\n",
        "        file_path = os.path.join(folder_path, filename)\n",
        "\n",
        "        with open(file_path, \"r\") as file:\n",
        "            lines = file.readlines()\n",
        "\n",
        "        if len(lines) >= 2:\n",
        "            delete = int(lines[1].strip()) + 2\n",
        "            lines = lines[:delete]\n",
        "\n",
        "        # Remove the newline character from the last line\n",
        "        lines[-1] = lines[-1].rstrip('\\n')\n",
        "\n",
        "        with open(file_path, \"w\") as file:\n",
        "            file.writelines(lines)\n"
      ],
      "metadata": {
        "id": "NGLkdSLToOSc"
      },
      "execution_count": 25,
      "outputs": []
    },
    {
      "cell_type": "code",
      "source": [],
      "metadata": {
        "id": "KCzGmPXKpYd3"
      },
      "execution_count": null,
      "outputs": []
    }
  ]
}