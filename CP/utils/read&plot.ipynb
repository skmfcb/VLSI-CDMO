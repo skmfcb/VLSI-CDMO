{
  "nbformat": 4,
  "nbformat_minor": 0,
  "metadata": {
    "colab": {
      "provenance": []
    },
    "kernelspec": {
      "name": "python3",
      "display_name": "Python 3"
    },
    "language_info": {
      "name": "python"
    }
  },
  "cells": [
    {
      "cell_type": "code",
      "source": [
        "from PIL import Image, ImageDraw\n",
        "import random\n",
        "import matplotlib.pyplot as plt\n",
        "\n",
        "def print_rectangle(plate_width, plate_height, number_of_circuits, circuits_dimentions, m_factor=40):\n",
        "    img = Image.new('RGB', (plate_width*m_factor, plate_height*m_factor))\n",
        "    random_color_list = ['#BFCCB5','#7C96AB','#B7B7B7','#EDC6B1','#FDF4F5',\n",
        "                             '#E8A0BF','#BA90C6','#C0DBEA','#DDFFBB','#C7E9B0',\n",
        "                             '#B3C99C','#A4BC92','#B2A4FF','#FFB4B4','#FFDEB4',\n",
        "                             '#FDF7C3','#FFF2CC','#FFD966','#F4B183','#DFA67B',\n",
        "                             '#867070','#D5B4B4','#E4D0D0','#F5EBEB','#BBD6B8',\n",
        "                             '#AEC2B6','#94AF9F','#DBE4C6','#CCD5AE','#E9EDC9',\n",
        "                             '#FEFAE0','#FAEDCD','#804674','#A86464','#B3E5BE',\n",
        "                             '#F5FFC9','#F7C8E0','#DFFFD8','#B4E4FF','#95BDFF',\n",
        "                             '#B9F3E4','#EA8FEA','#FFAACF','#F6E6C2','#B5F1CC',\n",
        "                             '#6096B4','#93BFCF','#BDCDD6','#EEE9DA','#65647C',\n",
        "                             '#8B7E74','#C7BCA1','#F1D3B3','#FEBE8C','#ECC5FB']\n",
        "    for i in range(number_of_circuits):\n",
        "        w = circuits_dimentions[i][0]*m_factor\n",
        "        h = circuits_dimentions[i][1]*m_factor\n",
        "        x = circuits_dimentions[i][2]*m_factor\n",
        "        y = circuits_dimentions[i][3]*m_factor\n",
        "        img1 = ImageDraw.ImageDraw(img)\n",
        "        random_color_list_ = random_color_list\n",
        "        random_color = random_color_list_.pop()\n",
        "        if len(random_color_list_) == 0:\n",
        "            random_color_list_ = random_color_list\n",
        "        img1.rectangle([(x,y), (x+w, y+h)],fill =random_color, outline =\"black\", width=1)\n",
        "\n",
        "    #Uncomment to print also a grid\n",
        "\n",
        "    for i in range(plate_width):\n",
        "        img1 = ImageDraw.ImageDraw(img)\n",
        "        img1.line([(i*m_factor,0), (i*m_factor, plate_height*m_factor)], fill='#636363', width=1)\n",
        "    for i in range(plate_height):\n",
        "        img1 = ImageDraw.ImageDraw(img)\n",
        "        img1.line([(0,i*m_factor), (plate_width*m_factor, i*m_factor)], fill='#636363', width=1)\n",
        "    img.show()"
      ],
      "metadata": {
        "id": "SVzZbYc78ufC"
      },
      "execution_count": null,
      "outputs": []
    },
    {
      "cell_type": "code",
      "source": [
        "def read_circuits_data(filename):\n",
        "    with open(filename, 'r') as file:\n",
        "        lines = file.readlines()\n",
        "    width, height = map(int, lines[0].split())\n",
        "    num_circuits = int(lines[1])\n",
        "    circuit_positions = [list(map(int, line.split())) for line in lines[2:]]\n",
        "    return width, height, num_circuits, circuit_positions"
      ],
      "metadata": {
        "id": "2K2Sv7Z0_Mf2"
      },
      "execution_count": null,
      "outputs": []
    },
    {
      "cell_type": "code",
      "source": [
        "filename = '11.txt'  # Replace with your input file name\n",
        "width, height, num_circuits, circuit_positions = read_circuits_data(filename)\n",
        "\n",
        "print(f\"Width: {width}\")\n",
        "print(f\"Height: {height}\")\n",
        "print(f\"Number of circuits: {num_circuits}\")\n",
        "print(\"Circuit positions:\")\n",
        "for circuit in circuit_positions:\n",
        "    print(circuit)\n",
        "\n",
        "print_rectangle(width, height, num_circuits, circuit_positions)"
      ],
      "metadata": {
        "colab": {
          "base_uri": "https://localhost:8080/",
          "height": 1000
        },
        "id": "ehi3UG-dvQT0",
        "outputId": "e3add579-f2d7-406b-d167-9aa926475248"
      },
      "execution_count": null,
      "outputs": [
        {
          "output_type": "stream",
          "name": "stdout",
          "text": [
            "Width: 18\n",
            "Height: 18\n",
            "Number of circuits: 16\n",
            "Circuit positions:\n",
            "[3, 3, 0, 0]\n",
            "[3, 4, 0, 3]\n",
            "[3, 5, 0, 7]\n",
            "[3, 6, 0, 12]\n",
            "[3, 7, 0, 15]\n",
            "[3, 8, 3, 0]\n",
            "[3, 10, 6, 0]\n",
            "[3, 11, 7, 15]\n",
            "[4, 3, 3, 8]\n",
            "[4, 4, 9, 0]\n",
            "[4, 5, 6, 10]\n",
            "[4, 6, 9, 4]\n",
            "[5, 3, 10, 10]\n",
            "[5, 4, 13, 0]\n",
            "[5, 5, 13, 4]\n",
            "[5, 6, 13, 9]\n"
          ]
        },
        {
          "output_type": "display_data",
          "data": {
            "text/plain": [
              "<PIL.Image.Image image mode=RGB size=720x720 at 0x7F2A70B52890>"
            ],
            "image/png": "[encoded data removed]"
          },
          "metadata": {}
        }
      ]
    },
    {
      "cell_type": "code",
      "source": [
        "def print_rectangle(plate_width, plate_height, number_of_circuits, circuits_dimensions, rotations, m_factor=40):\n",
        "    img = Image.new('RGB', (plate_width*m_factor, plate_height*m_factor))\n",
        "    random_color_list = ['#BFCCB5','#7C96AB','#B7B7B7','#EDC6B1','#FDF4F5',\n",
        "                             '#E8A0BF','#BA90C6','#C0DBEA','#DDFFBB','#C7E9B0',\n",
        "                             '#B3C99C','#A4BC92','#B2A4FF','#FFB4B4','#FFDEB4',\n",
        "                             '#FDF7C3','#FFF2CC','#FFD966','#F4B183','#DFA67B',\n",
        "                             '#867070','#D5B4B4','#E4D0D0','#F5EBEB','#BBD6B8',\n",
        "                             '#AEC2B6','#94AF9F','#DBE4C6','#CCD5AE','#E9EDC9',\n",
        "                             '#FEFAE0','#FAEDCD','#804674','#A86464','#B3E5BE',\n",
        "                             '#F5FFC9','#F7C8E0','#DFFFD8','#B4E4FF','#95BDFF',\n",
        "                             '#B9F3E4','#EA8FEA','#FFAACF','#F6E6C2','#B5F1CC',\n",
        "                             '#6096B4','#93BFCF','#BDCDD6','#EEE9DA','#65647C',\n",
        "                             '#8B7E74','#C7BCA1','#F1D3B3','#FEBE8C','#ECC5FB']\n",
        "\n",
        "    for i in range(number_of_circuits):\n",
        "        w = circuits_dimensions[i][0] * m_factor\n",
        "        h = circuits_dimensions[i][1] * m_factor\n",
        "        x = circuits_dimensions[i][2] * m_factor\n",
        "        y = circuits_dimensions[i][3] * m_factor\n",
        "        rotate = rotations[i]\n",
        "        img1 = ImageDraw.ImageDraw(img)\n",
        "        random_color = random_color_list[i % len(random_color_list)]\n",
        "\n",
        "        if rotate:  # Check if rotation is allowed\n",
        "            w, h = h, w  # Swap width and height if rotation is allowed\n",
        "\n",
        "        img1.rectangle([(x, y), (x+w, y+h)], fill=random_color, outline=\"black\", width=1)\n",
        "\n",
        "    for i in range(plate_width):\n",
        "        img1 = ImageDraw.ImageDraw(img)\n",
        "        img1.line([(i*m_factor, 0), (i*m_factor, plate_height*m_factor)], fill='#636363', width=2)\n",
        "    for i in range(plate_height):\n",
        "        img1 = ImageDraw.ImageDraw(img)\n",
        "        img1.line([(0, i*m_factor), (plate_width*m_factor, i*m_factor)], fill='#636363', width=2)\n",
        "\n",
        "    img.show()"
      ],
      "metadata": {
        "id": "KLUBJNhiAvLK"
      },
      "execution_count": null,
      "outputs": []
    },
    {
      "cell_type": "code",
      "source": [
        "filename = '2.txt'  # Replace with your input file name\n",
        "width, height, num_circuits, circuit_positions = read_circuits_data(filename)\n",
        "\n",
        "print(f\"Width: {width}\")\n",
        "print(f\"Height: {height}\")\n",
        "print(f\"Number of circuits: {num_circuits}\")\n",
        "print(\"Circuit positions:\")\n",
        "for circuit in circuit_positions:\n",
        "    print(circuit)\n",
        "\n",
        "print_rectangle(width, height, num_circuits, circuit_positions)"
      ],
      "metadata": {
        "colab": {
          "base_uri": "https://localhost:8080/",
          "height": 357
        },
        "id": "ueJBiVIbBYb1",
        "outputId": "7e346324-4b64-4c34-98ae-0dfe57f7dcfb"
      },
      "execution_count": null,
      "outputs": [
        {
          "output_type": "stream",
          "name": "stdout",
          "text": [
            "Width: 9\n",
            "Height: 9\n",
            "Number of circuits: 5\n",
            "Circuit positions:\n",
            "[3, 3, 0, 0]\n",
            "[3, 4, 0, 3]\n",
            "[3, 5, 4, 3]\n",
            "[3, 6, 3, 0]\n",
            "[3, 9, 0, 6]\n"
          ]
        },
        {
          "output_type": "error",
          "ename": "TypeError",
          "evalue": "ignored",
          "traceback": [
            "\u001b[0;31m---------------------------------------------------------------------------\u001b[0m",
            "\u001b[0;31mTypeError\u001b[0m                                 Traceback (most recent call last)",
            "\u001b[0;32m<ipython-input-7-9730408fd5ab>\u001b[0m in \u001b[0;36m<cell line: 11>\u001b[0;34m()\u001b[0m\n\u001b[1;32m      9\u001b[0m     \u001b[0mprint\u001b[0m\u001b[0;34m(\u001b[0m\u001b[0mcircuit\u001b[0m\u001b[0;34m)\u001b[0m\u001b[0;34m\u001b[0m\u001b[0;34m\u001b[0m\u001b[0m\n\u001b[1;32m     10\u001b[0m \u001b[0;34m\u001b[0m\u001b[0m\n\u001b[0;32m---> 11\u001b[0;31m \u001b[0mprint_rectangle\u001b[0m\u001b[0;34m(\u001b[0m\u001b[0mwidth\u001b[0m\u001b[0;34m,\u001b[0m \u001b[0mheight\u001b[0m\u001b[0;34m,\u001b[0m \u001b[0mnum_circuits\u001b[0m\u001b[0;34m,\u001b[0m \u001b[0mcircuit_positions\u001b[0m\u001b[0;34m)\u001b[0m\u001b[0;34m\u001b[0m\u001b[0;34m\u001b[0m\u001b[0m\n\u001b[0m",
            "\u001b[0;31mTypeError\u001b[0m: print_rectangle() missing 1 required positional argument: 'rotations'"
          ]
        }
      ]
    },
    {
      "cell_type": "code",
      "source": [],
      "metadata": {
        "id": "NgHumVulBgIj"
      },
      "execution_count": null,
      "outputs": []
    }
  ]
}