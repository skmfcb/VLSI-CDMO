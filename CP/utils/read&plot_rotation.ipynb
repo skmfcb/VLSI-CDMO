{
  "nbformat": 4,
  "nbformat_minor": 0,
  "metadata": {
    "colab": {
      "provenance": []
    },
    "kernelspec": {
      "name": "python3",
      "display_name": "Python 3"
    },
    "language_info": {
      "name": "python"
    }
  },
  "cells": [
    {
      "cell_type": "code",
      "source": [
        "from PIL import Image, ImageDraw\n",
        "import random\n",
        "import matplotlib.pyplot as plt\n",
        "\n",
        "def print_rectangle(plate_width, plate_height, number_of_circuits, circuits_dimentions, m_factor=40):\n",
        "    img = Image.new('RGB', (plate_width*m_factor, plate_height*m_factor))\n",
        "    random_color_list = ['#BFCCB5','#7C96AB','#B7B7B7','#EDC6B1','#FDF4F5',\n",
        "                             '#E8A0BF','#BA90C6','#C0DBEA','#DDFFBB','#C7E9B0',\n",
        "                             '#B3C99C','#A4BC92','#B2A4FF','#FFB4B4','#FFDEB4',\n",
        "                             '#FDF7C3','#FFF2CC','#FFD966','#F4B183','#DFA67B',\n",
        "                             '#867070','#D5B4B4','#E4D0D0','#F5EBEB','#BBD6B8',\n",
        "                             '#AEC2B6','#94AF9F','#DBE4C6','#CCD5AE','#E9EDC9',\n",
        "                             '#FEFAE0','#FAEDCD','#804674','#A86464','#B3E5BE',\n",
        "                             '#F5FFC9','#F7C8E0','#DFFFD8','#B4E4FF','#95BDFF',\n",
        "                             '#B9F3E4','#EA8FEA','#FFAACF','#F6E6C2','#B5F1CC',\n",
        "                             '#6096B4','#93BFCF','#BDCDD6','#EEE9DA','#65647C',\n",
        "                             '#8B7E74','#C7BCA1','#F1D3B3','#FEBE8C','#ECC5FB']\n",
        "    for i in range(number_of_circuits):\n",
        "        w = circuits_dimentions[i][0]*m_factor\n",
        "        h = circuits_dimentions[i][1]*m_factor\n",
        "        x = circuits_dimentions[i][2]*m_factor\n",
        "        y = circuits_dimentions[i][3]*m_factor\n",
        "        img1 = ImageDraw.ImageDraw(img)\n",
        "        random_color_list_ = random_color_list\n",
        "        random_color = random_color_list_.pop()\n",
        "        if len(random_color_list_) == 0:\n",
        "            random_color_list_ = random_color_list\n",
        "        img1.rectangle([(x,y), (x+w, y+h)],fill =random_color, outline =\"black\", width=1)\n",
        "        \n",
        "    #Uncomment to print also a grid\n",
        "\n",
        "    for i in range(plate_width):\n",
        "        img1 = ImageDraw.ImageDraw(img)\n",
        "        img1.line([(i*m_factor,0), (i*m_factor, plate_height*m_factor)], fill='#636363', width=1)\n",
        "    for i in range(plate_height):\n",
        "        img1 = ImageDraw.ImageDraw(img)\n",
        "        img1.line([(0,i*m_factor), (plate_width*m_factor, i*m_factor)], fill='#636363', width=1)\n",
        "    img.show()"
      ],
      "metadata": {
        "id": "ecA4FsaPG6AQ"
      },
      "execution_count": 2,
      "outputs": []
    },
    {
      "cell_type": "code",
      "source": [
        "def read_circuits_data(filename):\n",
        "    with open(filename, 'r') as file:\n",
        "        lines = file.readlines()\n",
        "    \n",
        "    # Parse width and height\n",
        "    width, height = map(int, lines[0].split())\n",
        "\n",
        "    # Parse number of circuits\n",
        "    num_circuits = int(lines[1])\n",
        "\n",
        "    circuits = []\n",
        "    for line in lines[2:]:\n",
        "        if line.strip() != '':\n",
        "            values = line.split()\n",
        "            circuit = list(map(int, values[:2]))\n",
        "            x, y = map(int, values[2:4])\n",
        "            is_rotated = values[4].lower() == 'true'\n",
        "\n",
        "            if is_rotated:\n",
        "                circuit = circuit[::-1]\n",
        "\n",
        "            circuits.append([circuit[0], circuit[1], x, y])\n",
        "\n",
        "    return width, height, num_circuits, circuits"
      ],
      "metadata": {
        "id": "vM-ajPpRKWR9"
      },
      "execution_count": 22,
      "outputs": []
    },
    {
      "cell_type": "code",
      "source": [
        "filename = '2.txt'\n",
        "\n",
        "width, height, num_circuits, circuits = read_circuits_data(filename)\n",
        "\n",
        "print(f\"Width: {width}\")\n",
        "print(f\"Height: {height}\")\n",
        "print(f\"Number of circuits: {num_circuits}\")\n",
        "print(\"Circuit positions:\")\n",
        "for circuit in circuits:\n",
        "    print(circuit)\n",
        "\n",
        "print_rectangle(width, height, num_circuits, circuits)"
      ],
      "metadata": {
        "colab": {
          "base_uri": "https://localhost:8080/",
          "height": 533
        },
        "id": "rA9lLfgfKpo1",
        "outputId": "f3dc276c-0359-48ee-e8d5-95f7e82bc6d5"
      },
      "execution_count": 26,
      "outputs": [
        {
          "output_type": "stream",
          "name": "stdout",
          "text": [
            "Width: 9\n",
            "Height: 9\n",
            "Number of circuits: 5\n",
            "Circuit positions:\n",
            "[3, 3, 0, 0]\n",
            "[4, 3, 0, 3]\n",
            "[5, 3, 4, 3]\n",
            "[6, 3, 3, 0]\n",
            "[9, 3, 0, 6]\n"
          ]
        },
        {
          "output_type": "display_data",
          "data": {
            "text/plain": [
              "<PIL.Image.Image image mode=RGB size=360x360 at 0x7FB51C2CFC40>"
            ],
            "image/png": "[encoded data removed]"
          },
          "metadata": {}
        }
      ]
    },
    {
      "cell_type": "code",
      "source": [],
      "metadata": {
        "id": "mFkCxARfMQU_"
      },
      "execution_count": null,
      "outputs": []
    }
  ]
}